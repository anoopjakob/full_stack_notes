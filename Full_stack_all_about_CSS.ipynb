{
 "cells": [
  {
   "cell_type": "markdown",
   "metadata": {},
   "source": [
    "CSS - cascading style sheets\n",
    "\n",
    "* best site to pick color pallets or colors for use in css file https://colorhunt.co/\n",
    "\n",
    "\n"
   ]
  },
  {
   "cell_type": "markdown",
   "metadata": {},
   "source": [
    "Internal CSS: \n",
    "* mdn border style property https://developer.mozilla.org/en-US/docs/Web/CSS/border-style .. very important"
   ]
  }
 ],
 "metadata": {
  "kernelspec": {
   "display_name": "Python 3.6.10 64-bit ('conda1': conda)",
   "language": "python",
   "name": "python361064bitconda1condab7229f1af61342cd80c0e90293aec554"
  },
  "language_info": {
   "codemirror_mode": {
    "name": "ipython",
    "version": 3
   },
   "file_extension": ".py",
   "mimetype": "text/x-python",
   "name": "python",
   "nbconvert_exporter": "python",
   "pygments_lexer": "ipython3",
   "version": "3.6.10"
  }
 },
 "nbformat": 4,
 "nbformat_minor": 4
}
