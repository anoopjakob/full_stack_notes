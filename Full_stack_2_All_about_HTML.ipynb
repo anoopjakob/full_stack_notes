{
 "cells": [
  {
   "cell_type": "markdown",
   "metadata": {},
   "source": [
    "# HTML \n",
    "This ipynb contain lists of important sites and some notes on HTML development"
   ]
  },
  {
   "cell_type": "markdown",
   "metadata": {},
   "source": [
    " head to http://www.gutenberg.org/ebooks/1661 to get Arthur conan doyles The adventures of sherlock holmes to see it in both html format and plain text format"
   ]
  },
  {
   "cell_type": "markdown",
   "metadata": {},
   "source": [
    " ## resources to help you get better in web development\n",
    " find help from these sites for details about html, css , javascript\n",
    "\n",
    "below 3 provides documentations on html css javascript etc\n",
    "\n",
    "* https://www.w3schools.com/ : THIS provides almost all related to webdevelopment\n",
    "\n",
    "* https://developer.mozilla.org/en-US/ : mozilla development network\n",
    "\n",
    "* https://devdocs.io/\n",
    "\n",
    "\n"
   ]
  },
  {
   "cell_type": "markdown",
   "metadata": {},
   "source": [
    "* create an account in https://codepen.io/ .. very important to check realtime code and also to save what we study"
   ]
  },
  {
   "cell_type": "markdown",
   "metadata": {},
   "source": [
    "## Creating our own website\n",
    "\n",
    "\n"
   ]
  },
  {
   "cell_type": "markdown",
   "metadata": {},
   "source": [
    "* head on to https://web.archive.org/ and type the name of any famous website\n",
    "* head on to https://docs.emmet.io/ for all the cheat sheets for html development in atom\n",
    "* head to https://unicode-table.com/en/ to get all the symbols and letters even including emojis and copy paste it to your atom editor\n",
    "* have look at meta. This helps browsers identify what the site is about and to point to it when needed. alos there is more to meta than this . read it in https://developer.mozilla.org/en-US/(mozilla developer network)\n"
   ]
  },
  {
   "cell_type": "markdown",
   "metadata": {},
   "source": [
    "##  HTML image elements\n",
    "\n",
    "\n",
    "   *  To crop an image online -- https://crop-circle.imageonline.co/ \n",
    "   *  Can host images at -- https://photobucket.com/ \n",
    "    "
   ]
  },
  {
   "cell_type": "markdown",
   "metadata": {},
   "source": [
    "## HTML links and Anchor Tags\n",
    "\n",
    "* a <br>\n",
    "* href"
   ]
  },
  {
   "cell_type": "markdown",
   "metadata": {},
   "source": [
    "## HTML tables\n",
    "\n",
    "* table\n",
    "* tr\n",
    "* td\n",
    "* thead\n",
    "* th\n"
   ]
  },
  {
   "cell_type": "code",
   "execution_count": null,
   "metadata": {},
   "outputs": [],
   "source": []
  }
 ],
 "metadata": {
  "kernelspec": {
   "display_name": "Python 3",
   "language": "python",
   "name": "python3"
  },
  "language_info": {
   "codemirror_mode": {
    "name": "ipython",
    "version": 3
   },
   "file_extension": ".py",
   "mimetype": "text/x-python",
   "name": "python",
   "nbconvert_exporter": "python",
   "pygments_lexer": "ipython3",
   "version": "3.6.10"
  }
 },
 "nbformat": 4,
 "nbformat_minor": 4
}
