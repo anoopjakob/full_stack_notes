{
 "cells": [
  {
   "cell_type": "code",
   "execution_count": 1,
   "metadata": {},
   "outputs": [],
   "source": [
    "# use codepen.io "
   ]
  },
  {
   "cell_type": "code",
   "execution_count": 2,
   "metadata": {},
   "outputs": [],
   "source": [
    "# head to gutenberg.org/ebooks.1661"
   ]
  },
  {
   "cell_type": "markdown",
   "metadata": {},
   "source": [
    " ## resources to help you get better in web development\n",
    " find help from these sites for details about html, css , javascript\n",
    "\n",
    "below 3 provides documentations on html css javascript etc\n",
    "\n",
    "* w3chools : THIS provides almost all related to webdevelopment\n",
    "\n",
    "* html mdn : mozilla development network\n",
    "\n",
    "* devdocs.io\n",
    "\n",
    "\n"
   ]
  },
  {
   "cell_type": "markdown",
   "metadata": {},
   "source": [
    "* create an account in codepen.. very important to check realtime code and also to save what we study"
   ]
  },
  {
   "cell_type": "markdown",
   "metadata": {},
   "source": [
    "## creating our own website\n",
    "\n",
    "* head on to web.archive.org and type the name of any famous website\n"
   ]
  },
  {
   "cell_type": "markdown",
   "metadata": {},
   "source": [
    "## 1\n",
    "* head on to __docs.emmet.io__ for all the cheat sheets for html development in atom\n",
    "* head to unicode-table.com to get all the symbols and letters even including emojis and copy paste it to your atom editor\n",
    "* have look at meta. This helps browsers identify what the site is about and to point to it when needed. alos there is more to meta than this . read it in mdn(mozilla developer network)\n"
   ]
  },
  {
   "cell_type": "markdown",
   "metadata": {},
   "source": [
    "## 2\n"
   ]
  },
  {
   "cell_type": "code",
   "execution_count": null,
   "metadata": {},
   "outputs": [],
   "source": []
  }
 ],
 "metadata": {
  "kernelspec": {
   "display_name": "Python 3",
   "language": "python",
   "name": "python3"
  },
  "language_info": {
   "codemirror_mode": {
    "name": "ipython",
    "version": 3
   },
   "file_extension": ".py",
   "mimetype": "text/x-python",
   "name": "python",
   "nbconvert_exporter": "python",
   "pygments_lexer": "ipython3",
   "version": "3.7.7"
  }
 },
 "nbformat": 4,
 "nbformat_minor": 4
}
