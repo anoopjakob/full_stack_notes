{
 "cells": [
  {
   "cell_type": "markdown",
   "metadata": {},
   "source": [
    " #  <u> Udemy course of full stack by Angela YU </u>"
   ]
  },
  {
   "cell_type": "markdown",
   "metadata": {},
   "source": [
    " * pretty good syllabus"
   ]
  },
  {
   "cell_type": "markdown",
   "metadata": {},
   "source": [
    "# how to get most out of this course\n",
    "\n",
    "tip 1 : lessons takes 10 minute long. code along with the instructor.\n",
    "         instead watch video tutorials and then try to understand what is happening \n",
    "         in the code and try to write it on your own.\n",
    "         \n",
    "tip 2 : use cornel note taking system. download this from resources\n",
    "        \n",
    "tip 3 : speed up tutorials if you know\n",
    "\n",
    "tip 4 : don't skip\n",
    "\n",
    "tip 5 : if you find tutorial diffcult.. then bookmark it and try to replicate it again\n",
    "\n",
    "tip 6 : its important that you persevere and put in hours to master the skill.\n",
    "\n",
    "tip 7  : you may get stuck at some point . not a problem. use the tools that\n",
    "        professionals do. like google or stack overflow\n",
    "        \n",
    "tip 8 : struggle is good. thats the way you win it."
   ]
  },
  {
   "cell_type": "markdown",
   "metadata": {},
   "source": [
    "# how the internet actually works?\n",
    "\n",
    "* client - isp - dns_server - ip_address -\n",
    "\n",
    "* client gets ip address\n",
    "\n",
    "* now client again asks the isp to get us the stuff in the ip address\n",
    "\n",
    "* through optical fibres and other modes we locate the location of the particular ip_address. and we get the data from the server located at that ip_address back to our client(egs pc, laptop, mobile)\n",
    "\n",
    "* ip_address of google home page == 216.58.210.46.. check this out on your browser\n"
   ]
  },
  {
   "cell_type": "markdown",
   "metadata": {},
   "source": [
    "# How do websites actually work?\n",
    "\n",
    "the datas that we recieve from these servers typically contain HTML CSS and JS files\n",
    "\n",
    "HTML is resposible for the structure of your website\n",
    "CSS responsible for styling your website\n",
    "JS javascript files... responsible for actually do things or have a behaviour.."
   ]
  },
  {
   "cell_type": "markdown",
   "metadata": {},
   "source": [
    "# Setting up your local Web Development Enviroment\n",
    "\n",
    "chrome browser and atom text editor\n",
    "\n",
    "I am selecting vsc to do everything including editing jupyter notebooks \n",
    "\n"
   ]
  },
  {
   "cell_type": "code",
   "execution_count": null,
   "metadata": {},
   "outputs": [],
   "source": [
    "git"
   ]
  },
  {
   "cell_type": "code",
   "execution_count": null,
   "metadata": {},
   "outputs": [],
   "source": []
  },
  {
   "cell_type": "code",
   "execution_count": null,
   "metadata": {},
   "outputs": [],
   "source": []
  },
  {
   "cell_type": "code",
   "execution_count": null,
   "metadata": {},
   "outputs": [],
   "source": []
  }
 ],
 "metadata": {
  "kernelspec": {
   "display_name": "Python 3",
   "language": "python",
   "name": "python3"
  },
  "language_info": {
   "codemirror_mode": {
    "name": "ipython",
    "version": 3
   },
   "file_extension": ".py",
   "mimetype": "text/x-python",
   "name": "python",
   "nbconvert_exporter": "python",
   "pygments_lexer": "ipython3",
   "version": "3.7.7"
  }
 },
 "nbformat": 4,
 "nbformat_minor": 4
}